{
  "nbformat": 4,
  "nbformat_minor": 0,
  "metadata": {
    "colab": {
      "provenance": [],
      "collapsed_sections": [
        "Gp_GJOhKOmlr",
        "NUrhgxh3SUnd",
        "fUmG1fR8adZs",
        "9-9rg0NSfb08"
      ],
      "mount_file_id": "1u7N_blbffadhd8EaXFBJ7KzYaNGrv109",
      "authorship_tag": "ABX9TyOVOKBOX6bMyn1X4dEHFCc+",
      "include_colab_link": true
    },
    "kernelspec": {
      "name": "python3",
      "display_name": "Python 3"
    },
    "language_info": {
      "name": "python"
    }
  },
  "cells": [
    {
      "cell_type": "markdown",
      "metadata": {
        "id": "view-in-github",
        "colab_type": "text"
      },
      "source": [
        "<a href=\"https://colab.research.google.com/github/Shushukang/Data-Analysis/blob/main/%EC%8B%A4%EC%8A%B502.ipynb\" target=\"_parent\"><img src=\"https://colab.research.google.com/assets/colab-badge.svg\" alt=\"Open In Colab\"/></a>"
      ]
    },
    {
      "cell_type": "markdown",
      "source": [
        "# 데이터 불러오기"
      ],
      "metadata": {
        "id": "Gp_GJOhKOmlr"
      }
    },
    {
      "cell_type": "code",
      "execution_count": null,
      "metadata": {
        "id": "tcoLtYK9Ob2d",
        "outputId": "8729530e-7aef-4cb7-ecfe-bde20506e17c",
        "colab": {
          "base_uri": "https://localhost:8080/"
        }
      },
      "outputs": [
        {
          "output_type": "stream",
          "name": "stderr",
          "text": [
            "<ipython-input-1-d6557e8490cb>:8: DtypeWarning: Columns (5,6,9) have mixed types. Specify dtype option on import or set low_memory=False.\n",
            "  df = pd.read_csv(file_path)\n"
          ]
        },
        {
          "output_type": "stream",
          "name": "stdout",
          "text": [
            "            번호                    도서명                저자    출판사  발행년도  \\\n",
            "0            1                인공지능과 흙            김동훈 지음    민음사  2021   \n",
            "1            2           가짜 행복 권하는 사회            김태형 지음   갈매나무  2021   \n",
            "2            3  나도 한 문장 잘 쓰면 바랄 게 없겠네            김선영 지음   블랙피쉬  2021   \n",
            "3            4                예루살렘 해변  이도 게펜 지음, 임재희 옮김  문학세계사  2021   \n",
            "4            5  김성곤의 중국한시기행 : 장강·황하 편            김성곤 지음    김영사  2021   \n",
            "...        ...                    ...               ...    ...   ...   \n",
            "401677  401678                韓國現代詩大系            채만묵 編著  한국문화사  1996   \n",
            "401678  401679                  뉴 웨이브        제임스 모나코 지음    한나래  1996   \n",
            "401679  401680           (최인훈 장편소설)화두            최인훈 지음    민음사  1994   \n",
            "401680  401681           독일 문학과 세계 문학            吳漢鎭 編著     벽호  1995   \n",
            "401681  401682             참으로 소중한 생각            김일상 지음    동문사  1995   \n",
            "\n",
            "                 ISBN          세트 ISBN 부가기호    권   주제분류번호  도서권수  대출건수  \\\n",
            "0       9788937444319              NaN  NaN  NaN      NaN     1     0   \n",
            "1       9791190123969              NaN  NaN  NaN      NaN     1     0   \n",
            "2       9788968332982              NaN  NaN  NaN      NaN     1     0   \n",
            "3       9788970759906              NaN  NaN  NaN      NaN     1     0   \n",
            "4       9788934990833              NaN  NaN  NaN      NaN     1     0   \n",
            "...               ...              ...  ...  ...      ...   ...   ...   \n",
            "401677  9788977352971  9788977352988.0  NaN    3  811.608     1     0   \n",
            "401678  9788985367448  9788985367424.0  NaN    2   688.04     1     0   \n",
            "401679  9788937401596  9788937401589.0  NaN    2    813.6     1     0   \n",
            "401680  9788947700368  9788947700405.0  NaN    3   809.05     2     0   \n",
            "401681  9788970610092  9788970610092.0    0    1    814.6     0     0   \n",
            "\n",
            "              등록일자  \n",
            "0       2021-03-19  \n",
            "1       2021-03-19  \n",
            "2       2021-03-19  \n",
            "3       2021-03-19  \n",
            "4       2021-03-19  \n",
            "...            ...  \n",
            "401677  1970-01-01  \n",
            "401678  1970-01-01  \n",
            "401679  1970-01-01  \n",
            "401680  1970-01-01  \n",
            "401681  1970-01-01  \n",
            "\n",
            "[401682 rows x 13 columns]\n"
          ]
        }
      ],
      "source": [
        "# 필요한 라이브러리 임폴트\n",
        "import pandas as pd\n",
        "\n",
        "# 파일 경로 설정\n",
        "file_path = '/content/drive/MyDrive/데이터 분석/데이터/ns_202104.csv'\n",
        "\n",
        "# pd,read_csv(file)\n",
        "df = pd.read_csv(file_path)\n",
        "\n",
        "# 결과 확인\n",
        "print(df)"
      ]
    },
    {
      "cell_type": "markdown",
      "source": [
        "# 특정 행 추출하기"
      ],
      "metadata": {
        "id": "NUrhgxh3SUnd"
      }
    },
    {
      "cell_type": "code",
      "source": [
        "### '출판사' 한빛미디어 → 추출\n",
        "\n",
        "# '출판사' 컬럼 및 '한빛미디어'와 관련된 정보 확인\n",
        "print(df.loc[:,'출판사']) # 출판사 컬럼 추출\n",
        "print('-'*80)\n",
        "print(df.loc[:,'출판사'].value_counts()) # 출판사 개수 확인\n",
        "print('-'*80)\n",
        "print(df.loc[:,'출판사'].value_counts().loc['한빛미디어']) # 출판사 개수 내 '한빛미디어' 출판사 개수 확인\n",
        "\n",
        "print('-'*80)\n",
        "\n",
        "# 출판사 컬럼 추출 → 비교 연산자 == 이용 → 결과값 → 블리언 인덱싱\n",
        "condition = ((df.loc[:, '출판사'] == '한빛미디어') | (df.loc[:,'출판사'] == '민음사'))\n",
        "print(f'비교 연산의 결과 : \\n{condition}')\n",
        "\n",
        "print('-'*80)\n",
        "\n",
        "# loc + 비교 연산의 결과\n",
        "df1 = df.loc[condition,:]\n",
        "\n",
        "# 결과 확인\n",
        "df1"
      ],
      "metadata": {
        "id": "91ygPketSYgU",
        "colab": {
          "base_uri": "https://localhost:8080/",
          "height": 1000
        },
        "outputId": "83a7e86b-00c1-41f0-f2fd-16b76c7f9d5c"
      },
      "execution_count": null,
      "outputs": [
        {
          "output_type": "stream",
          "name": "stdout",
          "text": [
            "0           민음사\n",
            "1          갈매나무\n",
            "2          블랙피쉬\n",
            "3         문학세계사\n",
            "4           김영사\n",
            "          ...  \n",
            "401677    한국문화사\n",
            "401678      한나래\n",
            "401679      민음사\n",
            "401680       벽호\n",
            "401681      동문사\n",
            "Name: 출판사, Length: 401682, dtype: object\n",
            "--------------------------------------------------------------------------------\n",
            "출판사\n",
            "문학동네                   5041\n",
            "민음사                    4204\n",
            "김영사                    3577\n",
            "웅진씽크빅                  3394\n",
            "시공사                    2871\n",
            "                       ... \n",
            "큰솔                        1\n",
            "전북대학교  20세기민중생활사연구소       1\n",
            "모루와정                      1\n",
            "드림엔터                      1\n",
            "건강다이제스트                   1\n",
            "Name: count, Length: 21914, dtype: int64\n",
            "--------------------------------------------------------------------------------\n",
            "1000\n",
            "--------------------------------------------------------------------------------\n",
            "비교 연산의 결과 : \n",
            "0          True\n",
            "1         False\n",
            "2         False\n",
            "3         False\n",
            "4         False\n",
            "          ...  \n",
            "401677    False\n",
            "401678    False\n",
            "401679     True\n",
            "401680    False\n",
            "401681    False\n",
            "Name: 출판사, Length: 401682, dtype: bool\n",
            "--------------------------------------------------------------------------------\n"
          ]
        },
        {
          "output_type": "execute_result",
          "data": {
            "text/plain": [
              "            번호                                                도서명  \\\n",
              "0            1                                            인공지능과 흙   \n",
              "60          61       (맛있는 디자인)프리미어 프로 CC: 쉽게 배워 제대로 써먹는 유튜브 영상 편집   \n",
              "70          71         처음 배우는 애저 (Azure Portal로 배우는 애저 도입부터 활용까지)   \n",
              "88          89  맛있는 디자인 프리미어 프로 CC 2021 - 쉽게 배워 제대로 써먹는 유튜브 영상 편집   \n",
              "111        112                                보건교사 안은영 :정세랑 장편소설    \n",
              "...        ...                                                ...   \n",
              "400582  400583                                          원효 철학 에세이   \n",
              "400585  400586                                     게르만 신화 바그너 히틀러   \n",
              "401036  401037                                              南海敎育史   \n",
              "401515  401516                                             박영희 연구   \n",
              "401679  401680                                       (최인훈 장편소설)화두   \n",
              "\n",
              "                              저자    출판사  발행년도           ISBN          세트 ISBN  \\\n",
              "0                         김동훈 지음    민음사  2021  9788937444319              NaN   \n",
              "60            정지원,심수진,윤성우,김덕영 지음  한빛미디어  2021  9791162244029              NaN   \n",
              "70                           김도균  한빛미디어  2020  9791162243695              NaN   \n",
              "88      정지원, 심수진, 윤성우, 김덕영 (지은이)  한빛미디어  2021  9791162244029              NaN   \n",
              "111                     지은이: 정세랑    민음사  2021  9788937479953              NaN   \n",
              "...                          ...    ...   ...            ...              ...   \n",
              "400582                       신오현    민음사  2004  9788937454325  9788937454202.0   \n",
              "400585                       안인희    민음사  2004  9788937471001  9788937471001.0   \n",
              "401036            南海敎育史 編纂委員會 엮음    민음사  1997  9788937445392              NaN   \n",
              "401515                     김윤식 저    민음사  1989  9788937410758              NaN   \n",
              "401679                    최인훈 지음    민음사  1994  9788937401596  9788937401589.0   \n",
              "\n",
              "       부가기호     권   주제분류번호  도서권수  대출건수        등록일자  \n",
              "0       NaN   NaN      NaN     1     0  2021-03-19  \n",
              "60        1  2021  005.567     1     1  2021-03-15  \n",
              "70      NaN   NaN   005.74     1     1  2021-03-15  \n",
              "88      NaN   NaN      NaN     0     0  2021-03-15  \n",
              "111       0   NaN    813.7     1     0  2021-03-12  \n",
              "...     ...   ...      ...   ...   ...         ...  \n",
              "400582  NaN   NaN      NaN     2     0  1970-01-01  \n",
              "400585  NaN   NaN      NaN     1     0  1970-01-01  \n",
              "401036  NaN   NaN  370.911     1     0  1970-01-01  \n",
              "401515  NaN   NaN  810.906     1     0  1970-01-01  \n",
              "401679  NaN     2    813.6     1     0  1970-01-01  \n",
              "\n",
              "[5204 rows x 13 columns]"
            ],
            "text/html": [
              "\n",
              "  <div id=\"df-dadcfef5-d561-4e84-abb4-48faf07157d1\" class=\"colab-df-container\">\n",
              "    <div>\n",
              "<style scoped>\n",
              "    .dataframe tbody tr th:only-of-type {\n",
              "        vertical-align: middle;\n",
              "    }\n",
              "\n",
              "    .dataframe tbody tr th {\n",
              "        vertical-align: top;\n",
              "    }\n",
              "\n",
              "    .dataframe thead th {\n",
              "        text-align: right;\n",
              "    }\n",
              "</style>\n",
              "<table border=\"1\" class=\"dataframe\">\n",
              "  <thead>\n",
              "    <tr style=\"text-align: right;\">\n",
              "      <th></th>\n",
              "      <th>번호</th>\n",
              "      <th>도서명</th>\n",
              "      <th>저자</th>\n",
              "      <th>출판사</th>\n",
              "      <th>발행년도</th>\n",
              "      <th>ISBN</th>\n",
              "      <th>세트 ISBN</th>\n",
              "      <th>부가기호</th>\n",
              "      <th>권</th>\n",
              "      <th>주제분류번호</th>\n",
              "      <th>도서권수</th>\n",
              "      <th>대출건수</th>\n",
              "      <th>등록일자</th>\n",
              "    </tr>\n",
              "  </thead>\n",
              "  <tbody>\n",
              "    <tr>\n",
              "      <th>0</th>\n",
              "      <td>1</td>\n",
              "      <td>인공지능과 흙</td>\n",
              "      <td>김동훈 지음</td>\n",
              "      <td>민음사</td>\n",
              "      <td>2021</td>\n",
              "      <td>9788937444319</td>\n",
              "      <td>NaN</td>\n",
              "      <td>NaN</td>\n",
              "      <td>NaN</td>\n",
              "      <td>NaN</td>\n",
              "      <td>1</td>\n",
              "      <td>0</td>\n",
              "      <td>2021-03-19</td>\n",
              "    </tr>\n",
              "    <tr>\n",
              "      <th>60</th>\n",
              "      <td>61</td>\n",
              "      <td>(맛있는 디자인)프리미어 프로 CC: 쉽게 배워 제대로 써먹는 유튜브 영상 편집</td>\n",
              "      <td>정지원,심수진,윤성우,김덕영 지음</td>\n",
              "      <td>한빛미디어</td>\n",
              "      <td>2021</td>\n",
              "      <td>9791162244029</td>\n",
              "      <td>NaN</td>\n",
              "      <td>1</td>\n",
              "      <td>2021</td>\n",
              "      <td>005.567</td>\n",
              "      <td>1</td>\n",
              "      <td>1</td>\n",
              "      <td>2021-03-15</td>\n",
              "    </tr>\n",
              "    <tr>\n",
              "      <th>70</th>\n",
              "      <td>71</td>\n",
              "      <td>처음 배우는 애저 (Azure Portal로 배우는 애저 도입부터 활용까지)</td>\n",
              "      <td>김도균</td>\n",
              "      <td>한빛미디어</td>\n",
              "      <td>2020</td>\n",
              "      <td>9791162243695</td>\n",
              "      <td>NaN</td>\n",
              "      <td>NaN</td>\n",
              "      <td>NaN</td>\n",
              "      <td>005.74</td>\n",
              "      <td>1</td>\n",
              "      <td>1</td>\n",
              "      <td>2021-03-15</td>\n",
              "    </tr>\n",
              "    <tr>\n",
              "      <th>88</th>\n",
              "      <td>89</td>\n",
              "      <td>맛있는 디자인 프리미어 프로 CC 2021 - 쉽게 배워 제대로 써먹는 유튜브 영상 편집</td>\n",
              "      <td>정지원, 심수진, 윤성우, 김덕영 (지은이)</td>\n",
              "      <td>한빛미디어</td>\n",
              "      <td>2021</td>\n",
              "      <td>9791162244029</td>\n",
              "      <td>NaN</td>\n",
              "      <td>NaN</td>\n",
              "      <td>NaN</td>\n",
              "      <td>NaN</td>\n",
              "      <td>0</td>\n",
              "      <td>0</td>\n",
              "      <td>2021-03-15</td>\n",
              "    </tr>\n",
              "    <tr>\n",
              "      <th>111</th>\n",
              "      <td>112</td>\n",
              "      <td>보건교사 안은영 :정세랑 장편소설</td>\n",
              "      <td>지은이: 정세랑</td>\n",
              "      <td>민음사</td>\n",
              "      <td>2021</td>\n",
              "      <td>9788937479953</td>\n",
              "      <td>NaN</td>\n",
              "      <td>0</td>\n",
              "      <td>NaN</td>\n",
              "      <td>813.7</td>\n",
              "      <td>1</td>\n",
              "      <td>0</td>\n",
              "      <td>2021-03-12</td>\n",
              "    </tr>\n",
              "    <tr>\n",
              "      <th>...</th>\n",
              "      <td>...</td>\n",
              "      <td>...</td>\n",
              "      <td>...</td>\n",
              "      <td>...</td>\n",
              "      <td>...</td>\n",
              "      <td>...</td>\n",
              "      <td>...</td>\n",
              "      <td>...</td>\n",
              "      <td>...</td>\n",
              "      <td>...</td>\n",
              "      <td>...</td>\n",
              "      <td>...</td>\n",
              "      <td>...</td>\n",
              "    </tr>\n",
              "    <tr>\n",
              "      <th>400582</th>\n",
              "      <td>400583</td>\n",
              "      <td>원효 철학 에세이</td>\n",
              "      <td>신오현</td>\n",
              "      <td>민음사</td>\n",
              "      <td>2004</td>\n",
              "      <td>9788937454325</td>\n",
              "      <td>9788937454202.0</td>\n",
              "      <td>NaN</td>\n",
              "      <td>NaN</td>\n",
              "      <td>NaN</td>\n",
              "      <td>2</td>\n",
              "      <td>0</td>\n",
              "      <td>1970-01-01</td>\n",
              "    </tr>\n",
              "    <tr>\n",
              "      <th>400585</th>\n",
              "      <td>400586</td>\n",
              "      <td>게르만 신화 바그너 히틀러</td>\n",
              "      <td>안인희</td>\n",
              "      <td>민음사</td>\n",
              "      <td>2004</td>\n",
              "      <td>9788937471001</td>\n",
              "      <td>9788937471001.0</td>\n",
              "      <td>NaN</td>\n",
              "      <td>NaN</td>\n",
              "      <td>NaN</td>\n",
              "      <td>1</td>\n",
              "      <td>0</td>\n",
              "      <td>1970-01-01</td>\n",
              "    </tr>\n",
              "    <tr>\n",
              "      <th>401036</th>\n",
              "      <td>401037</td>\n",
              "      <td>南海敎育史</td>\n",
              "      <td>南海敎育史 編纂委員會 엮음</td>\n",
              "      <td>민음사</td>\n",
              "      <td>1997</td>\n",
              "      <td>9788937445392</td>\n",
              "      <td>NaN</td>\n",
              "      <td>NaN</td>\n",
              "      <td>NaN</td>\n",
              "      <td>370.911</td>\n",
              "      <td>1</td>\n",
              "      <td>0</td>\n",
              "      <td>1970-01-01</td>\n",
              "    </tr>\n",
              "    <tr>\n",
              "      <th>401515</th>\n",
              "      <td>401516</td>\n",
              "      <td>박영희 연구</td>\n",
              "      <td>김윤식 저</td>\n",
              "      <td>민음사</td>\n",
              "      <td>1989</td>\n",
              "      <td>9788937410758</td>\n",
              "      <td>NaN</td>\n",
              "      <td>NaN</td>\n",
              "      <td>NaN</td>\n",
              "      <td>810.906</td>\n",
              "      <td>1</td>\n",
              "      <td>0</td>\n",
              "      <td>1970-01-01</td>\n",
              "    </tr>\n",
              "    <tr>\n",
              "      <th>401679</th>\n",
              "      <td>401680</td>\n",
              "      <td>(최인훈 장편소설)화두</td>\n",
              "      <td>최인훈 지음</td>\n",
              "      <td>민음사</td>\n",
              "      <td>1994</td>\n",
              "      <td>9788937401596</td>\n",
              "      <td>9788937401589.0</td>\n",
              "      <td>NaN</td>\n",
              "      <td>2</td>\n",
              "      <td>813.6</td>\n",
              "      <td>1</td>\n",
              "      <td>0</td>\n",
              "      <td>1970-01-01</td>\n",
              "    </tr>\n",
              "  </tbody>\n",
              "</table>\n",
              "<p>5204 rows × 13 columns</p>\n",
              "</div>\n",
              "    <div class=\"colab-df-buttons\">\n",
              "\n",
              "  <div class=\"colab-df-container\">\n",
              "    <button class=\"colab-df-convert\" onclick=\"convertToInteractive('df-dadcfef5-d561-4e84-abb4-48faf07157d1')\"\n",
              "            title=\"Convert this dataframe to an interactive table.\"\n",
              "            style=\"display:none;\">\n",
              "\n",
              "  <svg xmlns=\"http://www.w3.org/2000/svg\" height=\"24px\" viewBox=\"0 -960 960 960\">\n",
              "    <path d=\"M120-120v-720h720v720H120Zm60-500h600v-160H180v160Zm220 220h160v-160H400v160Zm0 220h160v-160H400v160ZM180-400h160v-160H180v160Zm440 0h160v-160H620v160ZM180-180h160v-160H180v160Zm440 0h160v-160H620v160Z\"/>\n",
              "  </svg>\n",
              "    </button>\n",
              "\n",
              "  <style>\n",
              "    .colab-df-container {\n",
              "      display:flex;\n",
              "      gap: 12px;\n",
              "    }\n",
              "\n",
              "    .colab-df-convert {\n",
              "      background-color: #E8F0FE;\n",
              "      border: none;\n",
              "      border-radius: 50%;\n",
              "      cursor: pointer;\n",
              "      display: none;\n",
              "      fill: #1967D2;\n",
              "      height: 32px;\n",
              "      padding: 0 0 0 0;\n",
              "      width: 32px;\n",
              "    }\n",
              "\n",
              "    .colab-df-convert:hover {\n",
              "      background-color: #E2EBFA;\n",
              "      box-shadow: 0px 1px 2px rgba(60, 64, 67, 0.3), 0px 1px 3px 1px rgba(60, 64, 67, 0.15);\n",
              "      fill: #174EA6;\n",
              "    }\n",
              "\n",
              "    .colab-df-buttons div {\n",
              "      margin-bottom: 4px;\n",
              "    }\n",
              "\n",
              "    [theme=dark] .colab-df-convert {\n",
              "      background-color: #3B4455;\n",
              "      fill: #D2E3FC;\n",
              "    }\n",
              "\n",
              "    [theme=dark] .colab-df-convert:hover {\n",
              "      background-color: #434B5C;\n",
              "      box-shadow: 0px 1px 3px 1px rgba(0, 0, 0, 0.15);\n",
              "      filter: drop-shadow(0px 1px 2px rgba(0, 0, 0, 0.3));\n",
              "      fill: #FFFFFF;\n",
              "    }\n",
              "  </style>\n",
              "\n",
              "    <script>\n",
              "      const buttonEl =\n",
              "        document.querySelector('#df-dadcfef5-d561-4e84-abb4-48faf07157d1 button.colab-df-convert');\n",
              "      buttonEl.style.display =\n",
              "        google.colab.kernel.accessAllowed ? 'block' : 'none';\n",
              "\n",
              "      async function convertToInteractive(key) {\n",
              "        const element = document.querySelector('#df-dadcfef5-d561-4e84-abb4-48faf07157d1');\n",
              "        const dataTable =\n",
              "          await google.colab.kernel.invokeFunction('convertToInteractive',\n",
              "                                                    [key], {});\n",
              "        if (!dataTable) return;\n",
              "\n",
              "        const docLinkHtml = 'Like what you see? Visit the ' +\n",
              "          '<a target=\"_blank\" href=https://colab.research.google.com/notebooks/data_table.ipynb>data table notebook</a>'\n",
              "          + ' to learn more about interactive tables.';\n",
              "        element.innerHTML = '';\n",
              "        dataTable['output_type'] = 'display_data';\n",
              "        await google.colab.output.renderOutput(dataTable, element);\n",
              "        const docLink = document.createElement('div');\n",
              "        docLink.innerHTML = docLinkHtml;\n",
              "        element.appendChild(docLink);\n",
              "      }\n",
              "    </script>\n",
              "  </div>\n",
              "\n",
              "\n",
              "<div id=\"df-53fdef61-fa6c-45eb-987a-edc2b77040c2\">\n",
              "  <button class=\"colab-df-quickchart\" onclick=\"quickchart('df-53fdef61-fa6c-45eb-987a-edc2b77040c2')\"\n",
              "            title=\"Suggest charts\"\n",
              "            style=\"display:none;\">\n",
              "\n",
              "<svg xmlns=\"http://www.w3.org/2000/svg\" height=\"24px\"viewBox=\"0 0 24 24\"\n",
              "     width=\"24px\">\n",
              "    <g>\n",
              "        <path d=\"M19 3H5c-1.1 0-2 .9-2 2v14c0 1.1.9 2 2 2h14c1.1 0 2-.9 2-2V5c0-1.1-.9-2-2-2zM9 17H7v-7h2v7zm4 0h-2V7h2v10zm4 0h-2v-4h2v4z\"/>\n",
              "    </g>\n",
              "</svg>\n",
              "  </button>\n",
              "\n",
              "<style>\n",
              "  .colab-df-quickchart {\n",
              "      --bg-color: #E8F0FE;\n",
              "      --fill-color: #1967D2;\n",
              "      --hover-bg-color: #E2EBFA;\n",
              "      --hover-fill-color: #174EA6;\n",
              "      --disabled-fill-color: #AAA;\n",
              "      --disabled-bg-color: #DDD;\n",
              "  }\n",
              "\n",
              "  [theme=dark] .colab-df-quickchart {\n",
              "      --bg-color: #3B4455;\n",
              "      --fill-color: #D2E3FC;\n",
              "      --hover-bg-color: #434B5C;\n",
              "      --hover-fill-color: #FFFFFF;\n",
              "      --disabled-bg-color: #3B4455;\n",
              "      --disabled-fill-color: #666;\n",
              "  }\n",
              "\n",
              "  .colab-df-quickchart {\n",
              "    background-color: var(--bg-color);\n",
              "    border: none;\n",
              "    border-radius: 50%;\n",
              "    cursor: pointer;\n",
              "    display: none;\n",
              "    fill: var(--fill-color);\n",
              "    height: 32px;\n",
              "    padding: 0;\n",
              "    width: 32px;\n",
              "  }\n",
              "\n",
              "  .colab-df-quickchart:hover {\n",
              "    background-color: var(--hover-bg-color);\n",
              "    box-shadow: 0 1px 2px rgba(60, 64, 67, 0.3), 0 1px 3px 1px rgba(60, 64, 67, 0.15);\n",
              "    fill: var(--button-hover-fill-color);\n",
              "  }\n",
              "\n",
              "  .colab-df-quickchart-complete:disabled,\n",
              "  .colab-df-quickchart-complete:disabled:hover {\n",
              "    background-color: var(--disabled-bg-color);\n",
              "    fill: var(--disabled-fill-color);\n",
              "    box-shadow: none;\n",
              "  }\n",
              "\n",
              "  .colab-df-spinner {\n",
              "    border: 2px solid var(--fill-color);\n",
              "    border-color: transparent;\n",
              "    border-bottom-color: var(--fill-color);\n",
              "    animation:\n",
              "      spin 1s steps(1) infinite;\n",
              "  }\n",
              "\n",
              "  @keyframes spin {\n",
              "    0% {\n",
              "      border-color: transparent;\n",
              "      border-bottom-color: var(--fill-color);\n",
              "      border-left-color: var(--fill-color);\n",
              "    }\n",
              "    20% {\n",
              "      border-color: transparent;\n",
              "      border-left-color: var(--fill-color);\n",
              "      border-top-color: var(--fill-color);\n",
              "    }\n",
              "    30% {\n",
              "      border-color: transparent;\n",
              "      border-left-color: var(--fill-color);\n",
              "      border-top-color: var(--fill-color);\n",
              "      border-right-color: var(--fill-color);\n",
              "    }\n",
              "    40% {\n",
              "      border-color: transparent;\n",
              "      border-right-color: var(--fill-color);\n",
              "      border-top-color: var(--fill-color);\n",
              "    }\n",
              "    60% {\n",
              "      border-color: transparent;\n",
              "      border-right-color: var(--fill-color);\n",
              "    }\n",
              "    80% {\n",
              "      border-color: transparent;\n",
              "      border-right-color: var(--fill-color);\n",
              "      border-bottom-color: var(--fill-color);\n",
              "    }\n",
              "    90% {\n",
              "      border-color: transparent;\n",
              "      border-bottom-color: var(--fill-color);\n",
              "    }\n",
              "  }\n",
              "</style>\n",
              "\n",
              "  <script>\n",
              "    async function quickchart(key) {\n",
              "      const quickchartButtonEl =\n",
              "        document.querySelector('#' + key + ' button');\n",
              "      quickchartButtonEl.disabled = true;  // To prevent multiple clicks.\n",
              "      quickchartButtonEl.classList.add('colab-df-spinner');\n",
              "      try {\n",
              "        const charts = await google.colab.kernel.invokeFunction(\n",
              "            'suggestCharts', [key], {});\n",
              "      } catch (error) {\n",
              "        console.error('Error during call to suggestCharts:', error);\n",
              "      }\n",
              "      quickchartButtonEl.classList.remove('colab-df-spinner');\n",
              "      quickchartButtonEl.classList.add('colab-df-quickchart-complete');\n",
              "    }\n",
              "    (() => {\n",
              "      let quickchartButtonEl =\n",
              "        document.querySelector('#df-53fdef61-fa6c-45eb-987a-edc2b77040c2 button');\n",
              "      quickchartButtonEl.style.display =\n",
              "        google.colab.kernel.accessAllowed ? 'block' : 'none';\n",
              "    })();\n",
              "  </script>\n",
              "</div>\n",
              "\n",
              "  <div id=\"id_ae1a8fb5-fe2e-4580-ad86-4b10ce084f41\">\n",
              "    <style>\n",
              "      .colab-df-generate {\n",
              "        background-color: #E8F0FE;\n",
              "        border: none;\n",
              "        border-radius: 50%;\n",
              "        cursor: pointer;\n",
              "        display: none;\n",
              "        fill: #1967D2;\n",
              "        height: 32px;\n",
              "        padding: 0 0 0 0;\n",
              "        width: 32px;\n",
              "      }\n",
              "\n",
              "      .colab-df-generate:hover {\n",
              "        background-color: #E2EBFA;\n",
              "        box-shadow: 0px 1px 2px rgba(60, 64, 67, 0.3), 0px 1px 3px 1px rgba(60, 64, 67, 0.15);\n",
              "        fill: #174EA6;\n",
              "      }\n",
              "\n",
              "      [theme=dark] .colab-df-generate {\n",
              "        background-color: #3B4455;\n",
              "        fill: #D2E3FC;\n",
              "      }\n",
              "\n",
              "      [theme=dark] .colab-df-generate:hover {\n",
              "        background-color: #434B5C;\n",
              "        box-shadow: 0px 1px 3px 1px rgba(0, 0, 0, 0.15);\n",
              "        filter: drop-shadow(0px 1px 2px rgba(0, 0, 0, 0.3));\n",
              "        fill: #FFFFFF;\n",
              "      }\n",
              "    </style>\n",
              "    <button class=\"colab-df-generate\" onclick=\"generateWithVariable('df1')\"\n",
              "            title=\"Generate code using this dataframe.\"\n",
              "            style=\"display:none;\">\n",
              "\n",
              "  <svg xmlns=\"http://www.w3.org/2000/svg\" height=\"24px\"viewBox=\"0 0 24 24\"\n",
              "       width=\"24px\">\n",
              "    <path d=\"M7,19H8.4L18.45,9,17,7.55,7,17.6ZM5,21V16.75L18.45,3.32a2,2,0,0,1,2.83,0l1.4,1.43a1.91,1.91,0,0,1,.58,1.4,1.91,1.91,0,0,1-.58,1.4L9.25,21ZM18.45,9,17,7.55Zm-12,3A5.31,5.31,0,0,0,4.9,8.1,5.31,5.31,0,0,0,1,6.5,5.31,5.31,0,0,0,4.9,4.9,5.31,5.31,0,0,0,6.5,1,5.31,5.31,0,0,0,8.1,4.9,5.31,5.31,0,0,0,12,6.5,5.46,5.46,0,0,0,6.5,12Z\"/>\n",
              "  </svg>\n",
              "    </button>\n",
              "    <script>\n",
              "      (() => {\n",
              "      const buttonEl =\n",
              "        document.querySelector('#id_ae1a8fb5-fe2e-4580-ad86-4b10ce084f41 button.colab-df-generate');\n",
              "      buttonEl.style.display =\n",
              "        google.colab.kernel.accessAllowed ? 'block' : 'none';\n",
              "\n",
              "      buttonEl.onclick = () => {\n",
              "        google.colab.notebook.generateWithVariable('df1');\n",
              "      }\n",
              "      })();\n",
              "    </script>\n",
              "  </div>\n",
              "\n",
              "    </div>\n",
              "  </div>\n"
            ],
            "application/vnd.google.colaboratory.intrinsic+json": {
              "type": "dataframe",
              "variable_name": "df1",
              "summary": "{\n  \"name\": \"df1\",\n  \"rows\": 5204,\n  \"fields\": [\n    {\n      \"column\": \"\\ubc88\\ud638\",\n      \"properties\": {\n        \"dtype\": \"number\",\n        \"std\": 116560,\n        \"min\": 1,\n        \"max\": 401680,\n        \"num_unique_values\": 5204,\n        \"samples\": [\n          31180,\n          20413,\n          334253\n        ],\n        \"semantic_type\": \"\",\n        \"description\": \"\"\n      }\n    },\n    {\n      \"column\": \"\\ub3c4\\uc11c\\uba85\",\n      \"properties\": {\n        \"dtype\": \"string\",\n        \"num_unique_values\": 3661,\n        \"samples\": [\n          \"\\uac04\\uc808\\ud568\",\n          \"\\ubca0\\ub2c8\\uc2a4\\uc758 \\uc0c1\\uc778\",\n          \"\\ub525\\ub7ec\\ub2dd\\uacfc \\ubc14\\ub451\"\n        ],\n        \"semantic_type\": \"\",\n        \"description\": \"\"\n      }\n    },\n    {\n      \"column\": \"\\uc800\\uc790\",\n      \"properties\": {\n        \"dtype\": \"string\",\n        \"num_unique_values\": 3186,\n        \"samples\": [\n          \"\\uc724\\uc774\\uc0ac\\ub77c,\\ubc15\\ud6a8\\uadfc \\uc9c0\\uc74c\",\n          \"\\uc720\\ub3d9\\ud658,\\ubc15\\uc815\\uc900 \\uc9c0\\uc74c\",\n          \"\\uc9c0\\uc740\\uc774: \\ubb38\\uad11\\ud6c8,\\uc11d\\uc601\\uc911,\\ubc15\\ud604\\uc12d,\\uc720\\uc885\\ud638,\\ub85c\\uc774 \\uc54c\\ub85d \\uafb8\\ub9c8\\ub974\"\n        ],\n        \"semantic_type\": \"\",\n        \"description\": \"\"\n      }\n    },\n    {\n      \"column\": \"\\ucd9c\\ud310\\uc0ac\",\n      \"properties\": {\n        \"dtype\": \"category\",\n        \"num_unique_values\": 2,\n        \"samples\": [\n          \"\\ud55c\\ube5b\\ubbf8\\ub514\\uc5b4\",\n          \"\\ubbfc\\uc74c\\uc0ac\"\n        ],\n        \"semantic_type\": \"\",\n        \"description\": \"\"\n      }\n    },\n    {\n      \"column\": \"\\ubc1c\\ud589\\ub144\\ub3c4\",\n      \"properties\": {\n        \"dtype\": \"category\",\n        \"num_unique_values\": 36,\n        \"samples\": [\n          \"1986.\",\n          \"2009\"\n        ],\n        \"semantic_type\": \"\",\n        \"description\": \"\"\n      }\n    },\n    {\n      \"column\": \"ISBN\",\n      \"properties\": {\n        \"dtype\": \"string\",\n        \"num_unique_values\": 3965,\n        \"samples\": [\n          9791162242605,\n          \"9788968480713\"\n        ],\n        \"semantic_type\": \"\",\n        \"description\": \"\"\n      }\n    },\n    {\n      \"column\": \"\\uc138\\ud2b8 ISBN\",\n      \"properties\": {\n        \"dtype\": \"category\",\n        \"num_unique_values\": 174,\n        \"samples\": [\n          \"9788937420078\",\n          \"9789788937487\"\n        ],\n        \"semantic_type\": \"\",\n        \"description\": \"\"\n      }\n    },\n    {\n      \"column\": \"\\ubd80\\uac00\\uae30\\ud638\",\n      \"properties\": {\n        \"dtype\": \"category\",\n        \"num_unique_values\": 7,\n        \"samples\": [\n          \"1\",\n          \"0\"\n        ],\n        \"semantic_type\": \"\",\n        \"description\": \"\"\n      }\n    },\n    {\n      \"column\": \"\\uad8c\",\n      \"properties\": {\n        \"dtype\": \"category\",\n        \"num_unique_values\": 382,\n        \"samples\": [\n          \"344\",\n          \"187\"\n        ],\n        \"semantic_type\": \"\",\n        \"description\": \"\"\n      }\n    },\n    {\n      \"column\": \"\\uc8fc\\uc81c\\ubd84\\ub958\\ubc88\\ud638\",\n      \"properties\": {\n        \"dtype\": \"category\",\n        \"num_unique_values\": 906,\n        \"samples\": [\n          \"150.4\",\n          \"560\"\n        ],\n        \"semantic_type\": \"\",\n        \"description\": \"\"\n      }\n    },\n    {\n      \"column\": \"\\ub3c4\\uc11c\\uad8c\\uc218\",\n      \"properties\": {\n        \"dtype\": \"number\",\n        \"std\": 0,\n        \"min\": 0,\n        \"max\": 11,\n        \"num_unique_values\": 8,\n        \"samples\": [\n          0,\n          11\n        ],\n        \"semantic_type\": \"\",\n        \"description\": \"\"\n      }\n    },\n    {\n      \"column\": \"\\ub300\\ucd9c\\uac74\\uc218\",\n      \"properties\": {\n        \"dtype\": \"number\",\n        \"std\": 21,\n        \"min\": 0,\n        \"max\": 354,\n        \"num_unique_values\": 135,\n        \"samples\": [\n          79,\n          44\n        ],\n        \"semantic_type\": \"\",\n        \"description\": \"\"\n      }\n    },\n    {\n      \"column\": \"\\ub4f1\\ub85d\\uc77c\\uc790\",\n      \"properties\": {\n        \"dtype\": \"object\",\n        \"num_unique_values\": 1229,\n        \"samples\": [\n          \"2011-01-09\",\n          \"2005-03-21\"\n        ],\n        \"semantic_type\": \"\",\n        \"description\": \"\"\n      }\n    }\n  ]\n}"
            }
          },
          "metadata": {},
          "execution_count": 2
        }
      ]
    },
    {
      "cell_type": "markdown",
      "source": [
        "# 누락 데이터 처리하기"
      ],
      "metadata": {
        "id": "fUmG1fR8adZs"
      }
    },
    {
      "cell_type": "markdown",
      "source": [
        "## 누락된 데이터의 수 확인"
      ],
      "metadata": {
        "id": "qN47ly37ahwb"
      }
    },
    {
      "cell_type": "code",
      "source": [
        "### 각 컬럼 별 누락 데이터의 수 확인\n",
        "\n",
        "# isnull() 사용 → 각 컬럼의 모든 데이터 → 누락 여부 확인 → 블리언 값 표시\n",
        "print(df.isnull())\n",
        "\n",
        "print('-'*80)\n",
        "\n",
        "# isnull().sum()\n",
        "num_nulls = df.isnull().sum()\n",
        "print(f'각 컬럼 별 누락 데이터의 수 : \\n{num_nulls}')"
      ],
      "metadata": {
        "id": "HW5NaXIDaooj",
        "colab": {
          "base_uri": "https://localhost:8080/"
        },
        "outputId": "cb1feaec-0c15-4bac-84b2-247dddcf6e80"
      },
      "execution_count": null,
      "outputs": [
        {
          "output_type": "stream",
          "name": "stdout",
          "text": [
            "           번호    도서명     저자    출판사   발행년도   ISBN  세트 ISBN   부가기호      권  \\\n",
            "0       False  False  False  False  False  False     True   True   True   \n",
            "1       False  False  False  False  False  False     True   True   True   \n",
            "2       False  False  False  False  False  False     True   True   True   \n",
            "3       False  False  False  False  False  False     True   True   True   \n",
            "4       False  False  False  False  False  False     True   True   True   \n",
            "...       ...    ...    ...    ...    ...    ...      ...    ...    ...   \n",
            "401677  False  False  False  False  False  False    False   True  False   \n",
            "401678  False  False  False  False  False  False    False   True  False   \n",
            "401679  False  False  False  False  False  False    False   True  False   \n",
            "401680  False  False  False  False  False  False    False   True  False   \n",
            "401681  False  False  False  False  False  False    False  False  False   \n",
            "\n",
            "        주제분류번호   도서권수   대출건수   등록일자  \n",
            "0         True  False  False  False  \n",
            "1         True  False  False  False  \n",
            "2         True  False  False  False  \n",
            "3         True  False  False  False  \n",
            "4         True  False  False  False  \n",
            "...        ...    ...    ...    ...  \n",
            "401677   False  False  False  False  \n",
            "401678   False  False  False  False  \n",
            "401679   False  False  False  False  \n",
            "401680   False  False  False  False  \n",
            "401681   False  False  False  False  \n",
            "\n",
            "[401682 rows x 13 columns]\n",
            "--------------------------------------------------------------------------------\n",
            "각 컬럼 별 누락 데이터의 수 : \n",
            "번호              0\n",
            "도서명           403\n",
            "저자            201\n",
            "출판사          4795\n",
            "발행년도           17\n",
            "ISBN            0\n",
            "세트 ISBN    339811\n",
            "부가기호        76648\n",
            "권          333415\n",
            "주제분류번호      20322\n",
            "도서권수            0\n",
            "대출건수            0\n",
            "등록일자            0\n",
            "dtype: int64\n"
          ]
        }
      ]
    },
    {
      "cell_type": "code",
      "source": [
        "### 특정 컬럼 → 누락 데이터가 존재하는 행 index 확인\n",
        "\n",
        "# 컬럼 → 도서명 컬럼\n",
        "\n",
        "# 비교 연산의 기능 → isnull() 적용\n",
        "condition = df.loc[:,'도서명'].isnull()\n",
        "print(f'isnull() 함수를 적용한 결과 : \\n{condition}')\n",
        "\n",
        "print('-'*80)\n",
        "\n",
        "# 비교 연산의 결과 → 블리언 인덱싱\n",
        "index_nulls = df.loc[:,'도서명'].loc[condition].index\n",
        "print(f'도서명 컬럼에서 누락 데이터의 행 인덱스 추출 : \\n{index_nulls}')"
      ],
      "metadata": {
        "id": "OloQSJ1DcAQc",
        "colab": {
          "base_uri": "https://localhost:8080/"
        },
        "outputId": "e9061562-d734-45e5-e93c-e56adc95b5d0"
      },
      "execution_count": null,
      "outputs": [
        {
          "output_type": "stream",
          "name": "stdout",
          "text": [
            "isnull() 함수를 적용한 결과 : \n",
            "0         False\n",
            "1         False\n",
            "2         False\n",
            "3         False\n",
            "4         False\n",
            "          ...  \n",
            "401677    False\n",
            "401678    False\n",
            "401679    False\n",
            "401680    False\n",
            "401681    False\n",
            "Name: 도서명, Length: 401682, dtype: bool\n",
            "--------------------------------------------------------------------------------\n",
            "도서명 컬럼에서 누락 데이터의 행 인덱스 추출 : \n",
            "Index([268458, 312643, 317396, 330243, 331460, 336149, 348590, 354596, 370496,\n",
            "       370497,\n",
            "       ...\n",
            "       370904, 370910, 370911, 389793, 389794, 389797, 389798, 389799, 391424,\n",
            "       392881],\n",
            "      dtype='int64', length=403)\n"
          ]
        }
      ]
    },
    {
      "cell_type": "markdown",
      "source": [
        "# 누락 데이터 제거"
      ],
      "metadata": {
        "id": "9-9rg0NSfb08"
      }
    },
    {
      "cell_type": "code",
      "source": [
        "### df.dropna() → 누락된 데이터가 존재하는 모든 행 삭제\n",
        "df2 = df.dropna(ignore_index=True)\n",
        "print(f'누락된 데이터가 존재하는 모든 행 삭제의 결과 : \\n{df2}') # 누락이 하나도 없는 컬럼만 남음"
      ],
      "metadata": {
        "id": "N839HmGmfd57"
      },
      "execution_count": null,
      "outputs": []
    },
    {
      "cell_type": "code",
      "source": [
        "### 도서명 컬럼에 존재하는 누락 데이터 제거\n",
        "\n",
        "\"\"\"\n",
        "1. 도서명 컬럼에 존재하는 누락 데이터의 행 인덱스 이용\n",
        "2. 사용 함수 : df.drop(index, columns)\n",
        "\"\"\"\n",
        "\n",
        "df3 = df.drop(index=index_nulls)\n",
        "\n",
        "# 결과 확인하기\n",
        "print(f'전체 데이터에서 도서명에 존재하는 누락 데이터를 제거한 결과 : \\n{df3}')"
      ],
      "metadata": {
        "id": "vPFI9OS1jo6c"
      },
      "execution_count": null,
      "outputs": []
    },
    {
      "cell_type": "code",
      "source": [
        "### 보충 : drop() → 특정 데이터를 제거\n",
        "\n",
        "# 출판사 이름이 '한빛미디어'인 데이터만 제거\n",
        "condition = df.loc[:, '출판사'] == '한빛미디어'\n",
        "target = df.loc[condition, :].index\n",
        "print(f'출판사 이름이 한빛미디어인 행의 인덱스 : \\n{target}')\n",
        "\n",
        "# drop(index) 사용\n",
        "print(df.drop(index=target))"
      ],
      "metadata": {
        "id": "Yk3SVeRElp2z"
      },
      "execution_count": null,
      "outputs": []
    },
    {
      "cell_type": "code",
      "source": [
        "### 도서명 컬럼과 저자 컬럼에 존재하는 누락 데이터 제거\n",
        "\n",
        "\"\"\"\n",
        "1. dropna() 사용\n",
        "2. 매개변수 → subset 이용\n",
        "\"\"\"\n",
        "df4 = df.dropna(subset=['도서명', '저자'], ignore_index=True)\n",
        "print(f'전체 데이터에서 도서관 컬럼에 존재하는 누락 데이터를 제거한 결과 : \\n{df4}')"
      ],
      "metadata": {
        "id": "wPtBjU4onyJT"
      },
      "execution_count": null,
      "outputs": []
    },
    {
      "cell_type": "markdown",
      "source": [
        "## 누락 데이터 변경하기"
      ],
      "metadata": {
        "id": "7N9pyKbQpfPc"
      }
    },
    {
      "cell_type": "code",
      "source": [
        "### fillna() 사용\n",
        "\n",
        "# 변경 전 데이터 확인\n",
        "print(f'누락 데이터를 대체하기 전 데이터프레임 확인 : \\n{df}')\n",
        "\n",
        "print('-'*80)\n",
        "\n",
        "# 컬럼 별로 대체할 값을 지정 → python dict 사용\n",
        "df5 = df.fillna({'세트 ISBN':'단행본', '부가기호':'없음'})\n",
        "print(f'누락 데이터를 대체 후 데이터 프레임 확인 : \\n{df5}')"
      ],
      "metadata": {
        "id": "ibu79e_uph8E"
      },
      "execution_count": null,
      "outputs": []
    },
    {
      "cell_type": "code",
      "source": [
        "### replace() 함수 이용\n",
        "\n",
        "# 필요한 라이브러리 임폴트\n",
        "import numpy as np\n",
        "\n",
        "# df.replace(to_replace, value)\n",
        "df6 = df.replace(np.nan, '없음') # 데이터프레임 상의 모든 누락을 '없음'으로 바꾸시오\n",
        "\n",
        "# 결과 확인하기\n",
        "print(f'\\n{df6}')\n",
        "print('-'*80)\n",
        "print(df6.isnull().sum())"
      ],
      "metadata": {
        "id": "0fn5w1x1wsm0"
      },
      "execution_count": null,
      "outputs": []
    },
    {
      "cell_type": "markdown",
      "source": [
        "# 이상치 처리하기"
      ],
      "metadata": {
        "id": "AdWyv6hZCHrt"
      }
    },
    {
      "cell_type": "code",
      "source": [
        "### 데이터 불러오기\n",
        "\n",
        "# 필요한 라이브러리 임폴트\n",
        "import pandas as pd\n",
        "\n",
        "# 파일 경로 설정\n",
        "file_path = '/content/drive/MyDrive/데이터 분석/데이터/weather.csv'\n",
        "\n",
        "# pd.read_csv() → DataFrame 생성\n",
        "df_weather = pd.read_csv(file_path)\n",
        "\n",
        "# 결과 확인하기\n",
        "print(df_weather)"
      ],
      "metadata": {
        "colab": {
          "base_uri": "https://localhost:8080/"
        },
        "id": "FAS_ackvCYSt",
        "outputId": "56eec1c2-8622-49f6-e2ae-240acf88fc71"
      },
      "execution_count": null,
      "outputs": [
        {
          "output_type": "stream",
          "name": "stdout",
          "text": [
            "       temp  hum   atm  speed\n",
            "0        17   34  1018    3.1\n",
            "1        17   34  1018    3.1\n",
            "2        17   34  1018    3.1\n",
            "3        17   34  1018    3.1\n",
            "4        17   34  1018    3.1\n",
            "...     ...  ...   ...    ...\n",
            "99995     9   71  1009    2.6\n",
            "99996     9   71  1009    2.6\n",
            "99997     9   71  1009    2.6\n",
            "99998     9   71  1009    2.6\n",
            "99999     9   71  1009    2.6\n",
            "\n",
            "[100000 rows x 4 columns]\n"
          ]
        }
      ]
    },
    {
      "cell_type": "code",
      "source": [
        "### 요약 통계량 추출\n",
        "\n",
        "# 각 컬럼 별 8가지 통계량 추출\n",
        "df_stat = df_weather.describe()\n",
        "\n",
        "# 결과 확인하기\n",
        "print(df_stat)"
      ],
      "metadata": {
        "colab": {
          "base_uri": "https://localhost:8080/"
        },
        "id": "2ictp_r6GYEK",
        "outputId": "05b767bd-10a7-44ca-8011-291e60174cbd"
      },
      "execution_count": null,
      "outputs": [
        {
          "output_type": "stream",
          "name": "stdout",
          "text": [
            "                temp            hum            atm          speed\n",
            "count  100000.000000  100000.000000  100000.000000  100000.000000\n",
            "mean       16.909460      78.159290    1005.071590       3.315666\n",
            "std         3.840548      21.021064       5.657643       1.915367\n",
            "min         9.000000      17.000000     993.000000       0.500000\n",
            "25%        15.000000      66.000000    1002.000000       1.500000\n",
            "50%        16.000000      87.000000    1006.000000       3.100000\n",
            "75%        19.000000      93.000000    1007.000000       4.600000\n",
            "max        27.000000     100.000000    1028.000000      10.300000\n"
          ]
        }
      ]
    },
    {
      "cell_type": "code",
      "source": [
        "### 연습 : 온도 컬럼 → 1사분위 값, 3사분위 값 추출\n",
        "\n",
        "# 1사분위 값 → 인덱싱\n",
        "# q1 = df_stat.loc['25%', 'temp']\n",
        "q1 = df_weather.loc[:,'temp'].quantile(0.25)\n",
        "print(f'온도 컬럼의 1사분위 값 : {q1}')\n",
        "\n",
        "print('-'*80)\n",
        "\n",
        "# 3사분위 값 → df.col.qunatile(Q=0.75)\n",
        "# q3 = df_stat.loc['75%', 'temp']\n",
        "q3 = df_weather.loc[:,'temp'].quantile(0.75)\n",
        "print(f'온도 컬럼의 3사분위 값 : {q3}')\n",
        "\n",
        "# 1. 요약 통계량 → 인덱싱\n",
        "# 2. 컬럼 지정.quantile(분위(퍼센트))"
      ],
      "metadata": {
        "colab": {
          "base_uri": "https://localhost:8080/"
        },
        "id": "ymLaMe2PHLcd",
        "outputId": "ab35eb23-f6ba-4964-b648-774b4c0abb19"
      },
      "execution_count": null,
      "outputs": [
        {
          "output_type": "stream",
          "name": "stdout",
          "text": [
            "온도 컬럼의 1사분위 값 : 15.0\n",
            "--------------------------------------------------------------------------------\n",
            "온도 컬럼의 3사분위 값 : 19.0\n"
          ]
        }
      ]
    },
    {
      "cell_type": "markdown",
      "source": [
        "## 온도 컬럼의 이상치 제거"
      ],
      "metadata": {
        "id": "NebFlqpvKrHF"
      }
    },
    {
      "cell_type": "code",
      "source": [
        "### 온도 컬럼의 이상치 확인\n",
        "df_weather.loc[:,'temp'].plot(kind='box')"
      ],
      "metadata": {
        "colab": {
          "base_uri": "https://localhost:8080/",
          "height": 448
        },
        "id": "zhlM4YuTAZdR",
        "outputId": "cf9ba483-991d-4d76-d3e1-4fe9379c7658"
      },
      "execution_count": null,
      "outputs": [
        {
          "output_type": "execute_result",
          "data": {
            "text/plain": [
              "<Axes: >"
            ]
          },
          "metadata": {},
          "execution_count": 3
        },
        {
          "output_type": "display_data",
          "data": {
            "text/plain": [
              "<Figure size 640x480 with 1 Axes>"
            ],
            "image/png": "[encoded data removed]"
          },
          "metadata": {}
        }
      ]
    },
    {
      "cell_type": "code",
      "source": [
        "### 온도 컬럼의 첫 번째 이상치 추출\n",
        "q1 = df_weather.loc[:,'temp'].quantile(q=0.25)\n",
        "q3 = df_weather.loc[:,'temp'].quantile(q=0.75)\n",
        "print(f'온도 컬럼의 첫 번째 q1 : {q1}')\n",
        "print('-'*80)\n",
        "print(f'온도 컬럼의 첫 번째 q3 : {q3}')\n",
        "\n",
        "print('-'*80)\n",
        "\n",
        "# 첫 번째 iqr 측정\n",
        "iqr = q3 - q1\n",
        "print(f'온도 컬럼의 첫 번째 iqr = {iqr}')\n",
        "\n",
        "print('-'*80)\n",
        "\n",
        "# 정상 범위의 첫 번째 최소 / 최대 값 측정\n",
        "min = q1 - (iqr*1.5)\n",
        "max = q3 + (iqr*1.5)\n",
        "print(f'온도 컬럼의 첫 번째 정상 범위의 최소값 : {min}')\n",
        "print('-'*80)\n",
        "print(f'온도 컬럼의 첫 번째 정상 범위의 최대값 : {max}')\n",
        "\n",
        "print('-'*80)\n",
        "\n",
        "# 비교 연산 + 논리 연산 적용 → 조건 설정\n",
        "condition = (df_weather.loc[:,'temp'] < min ) | (df_weather.loc[:,'temp'] > max)\n",
        "print(f'온도 컬럼의 첫 번째 이상치에 대한 블리언 배열 : \\n{condition}')\n",
        "\n",
        "print('-'*80)\n",
        "\n",
        "# 논리 연산의 결과 → 블리언 인덱싱 → 이상치 데이터 index 추출\n",
        "# outlier = df_weather.loc[condition,'temp']\n",
        "outlier_index = df_weather.loc[condition,'temp'].index\n",
        "print(f'온도 컬럼의 첫 번째 이상치 데이터의 인덱스 : \\n{outlier_index}')\n",
        "\n",
        "print('-'*80)\n",
        "\n",
        "# 온도 컬럼에 대한 첫 번째 이상치 제거\n",
        "# 있어야 제거한다는 조건문\n",
        "if len(outlier_index) > 0 :\n",
        "    cleaned_temp1 = df_weather.loc[:,'temp'].drop(index=outlier_index)\n",
        "    print(f'온도 컬럼에 대한 첫 번째 이상치 제거의 결과 : \\n{cleaned_temp1}')"
      ],
      "metadata": {
        "colab": {
          "base_uri": "https://localhost:8080/"
        },
        "id": "V06W6Pc3KxbU",
        "outputId": "c08d9572-8ea6-4e6c-f163-a343c54f8675"
      },
      "execution_count": null,
      "outputs": [
        {
          "output_type": "stream",
          "name": "stdout",
          "text": [
            "온도 컬럼의 첫 번째 q1 : 15.0\n",
            "--------------------------------------------------------------------------------\n",
            "온도 컬럼의 첫 번째 q3 : 19.0\n",
            "--------------------------------------------------------------------------------\n",
            "온도 컬럼의 첫 번째 iqr = 4.0\n",
            "--------------------------------------------------------------------------------\n",
            "온도 컬럼의 첫 번째 정상 범위의 최소값 : 9.0\n",
            "--------------------------------------------------------------------------------\n",
            "온도 컬럼의 첫 번째 정상 범위의 최대값 : 25.0\n",
            "--------------------------------------------------------------------------------\n",
            "온도 컬럼의 첫 번째 이상치에 대한 블리언 배열 : \n",
            "0        False\n",
            "1        False\n",
            "2        False\n",
            "3        False\n",
            "4        False\n",
            "         ...  \n",
            "99995    False\n",
            "99996    False\n",
            "99997    False\n",
            "99998    False\n",
            "99999    False\n",
            "Name: temp, Length: 100000, dtype: bool\n",
            "--------------------------------------------------------------------------------\n",
            "온도 컬럼의 첫 번째 이상치 데이터의 인덱스 : \n",
            "Index([ 3036,  3037,  3038,  3039,  3040,  3041,  3042,  3043,  3044,  3045,\n",
            "       ...\n",
            "       73190, 73191, 73192, 73193, 73194, 73195, 73196, 73197, 73198, 73199],\n",
            "      dtype='int64', length=2516)\n",
            "--------------------------------------------------------------------------------\n",
            "온도 컬럼에 대한 첫 번째 이상치 제거의 결과 : \n",
            "0        17\n",
            "1        17\n",
            "2        17\n",
            "3        17\n",
            "4        17\n",
            "         ..\n",
            "99995     9\n",
            "99996     9\n",
            "99997     9\n",
            "99998     9\n",
            "99999     9\n",
            "Name: temp, Length: 97484, dtype: int64\n"
          ]
        }
      ]
    },
    {
      "cell_type": "code",
      "source": [
        "### 첫 번째 이상치를 제거한 후의 결과값 시각화\n",
        "cleaned_temp1.plot(kind='box')"
      ],
      "metadata": {
        "colab": {
          "base_uri": "https://localhost:8080/",
          "height": 448
        },
        "id": "-qBY2rDgA01K",
        "outputId": "d24bb45c-5f34-4c49-f1ee-2f6b57732414"
      },
      "execution_count": null,
      "outputs": [
        {
          "output_type": "execute_result",
          "data": {
            "text/plain": [
              "<Axes: >"
            ]
          },
          "metadata": {},
          "execution_count": 6
        },
        {
          "output_type": "display_data",
          "data": {
            "text/plain": [
              "<Figure size 640x480 with 1 Axes>"
            ],
            "image/png": "[encoded data removed]"
          },
          "metadata": {}
        }
      ]
    },
    {
      "cell_type": "code",
      "source": [
        "### 온도 컬럼의 두 번째 이상치 추출\n",
        "q1 = cleaned_temp1.quantile(q=0.25)\n",
        "q3 = cleaned_temp1.quantile(q=0.75)\n",
        "print(f'온도 컬럼의 두 번째 q1 : {q1}')\n",
        "print('-'*80)\n",
        "print(f'온도 컬럼의 두 번째 q3 : {q3}')\n",
        "\n",
        "print('-'*80)\n",
        "\n",
        "# 두 번째 iqr 측정\n",
        "iqr = q3 - q1\n",
        "print(f'온도 컬럼의 두 번째 iqr = {iqr}')\n",
        "\n",
        "print('-'*80)\n",
        "\n",
        "# 정상 범위의 두 번째 최소 / 최대 값 측정\n",
        "min = q1 - (iqr*1.5)\n",
        "max = q3 + (iqr*1.5)\n",
        "print(f'온도 컬럼의 두 번째 정상 범위의 최소값 : {min}')\n",
        "print('-'*80)\n",
        "print(f'온도 컬럼의 두 번째 정상 범위의 최대값 : {max}')\n",
        "\n",
        "print('-'*80)\n",
        "\n",
        "# 비교 연산 + 논리 연산 적용 → 조건 설정\n",
        "condition = (cleaned_temp1 < min ) | (cleaned_temp1 > max)\n",
        "print(f'온도 컬럼의 두 번째 이상치에 대한 블리언 배열 : \\n{condition}')\n",
        "\n",
        "print('-'*80)\n",
        "\n",
        "# 논리 연산의 결과 → 블리언 인덱싱 → 이상치 데이터 index 추출\n",
        "outlier_index = cleaned_temp1.loc[condition].index\n",
        "print(f'온도 컬럼의 두 번째 이상치 데이터의 인덱스 : \\n{outlier_index}')\n",
        "\n",
        "print('-'*80)\n",
        "\n",
        "# 온도 컬럼에 대한 두 번째 이상치 제거\n",
        "if len(outlier_index) > 0 :\n",
        "    cleaned_temp2 = cleaned_temp1.drop(index=outlier_index)\n",
        "    print(f'온도 컬럼에 대한 두 번째 이상치 제거의 결과 : \\n{cleaned_temp2}')"
      ],
      "metadata": {
        "colab": {
          "base_uri": "https://localhost:8080/"
        },
        "id": "nL0saOf8XKML",
        "outputId": "74886d67-5518-4ef9-cb5e-b4fdcd33c9b6"
      },
      "execution_count": null,
      "outputs": [
        {
          "output_type": "stream",
          "name": "stdout",
          "text": [
            "온도 컬럼의 두 번째 q1 : 15.0\n",
            "--------------------------------------------------------------------------------\n",
            "온도 컬럼의 두 번째 q3 : 19.0\n",
            "--------------------------------------------------------------------------------\n",
            "온도 컬럼의 두 번째 iqr = 4.0\n",
            "--------------------------------------------------------------------------------\n",
            "온도 컬럼의 두 번째 정상 범위의 최소값 : 9.0\n",
            "--------------------------------------------------------------------------------\n",
            "온도 컬럼의 두 번째 정상 범위의 최대값 : 25.0\n",
            "--------------------------------------------------------------------------------\n",
            "온도 컬럼의 두 번째 이상치에 대한 블리언 배열 : \n",
            "0        False\n",
            "1        False\n",
            "2        False\n",
            "3        False\n",
            "4        False\n",
            "         ...  \n",
            "99995    False\n",
            "99996    False\n",
            "99997    False\n",
            "99998    False\n",
            "99999    False\n",
            "Name: temp, Length: 97484, dtype: bool\n",
            "--------------------------------------------------------------------------------\n",
            "온도 컬럼의 두 번째 이상치 데이터의 인덱스 : \n",
            "Index([], dtype='int64')\n",
            "--------------------------------------------------------------------------------\n"
          ]
        }
      ]
    },
    {
      "cell_type": "markdown",
      "source": [
        "## 습도 컬럼의 이상치 제거"
      ],
      "metadata": {
        "id": "GT5PiSw9ZyeD"
      }
    },
    {
      "cell_type": "code",
      "source": [
        "### 습도 컬럼의 첫 번째 이상치 추출\n",
        "q1 = df_weather.loc[:,'hum'].quantile(q=0.25)\n",
        "q3 = df_weather.loc[:,'hum'].quantile(q=0.75)\n",
        "print(f'습도 컬럼의 첫 번째 q1 : {q1}')\n",
        "print('-'*80)\n",
        "print(f'습도 컬럼의 첫 번째 q3 : {q3}')\n",
        "\n",
        "print('-'*80)\n",
        "\n",
        "# 첫 번째 iqr 측정\n",
        "iqr = q3 - q1\n",
        "print(f'습도 컬럼의 첫 번째 iqr = {iqr}')\n",
        "\n",
        "print('-'*80)\n",
        "\n",
        "# 정상 범위의 첫 번째 최소 / 최대 값 측정\n",
        "min = q1 - (iqr*1.5)\n",
        "max = q3 + (iqr*1.5)\n",
        "print(f'습도 컬럼의 첫 번째 정상 범위의 최소값 : {min}')\n",
        "print('-'*80)\n",
        "print(f'습도 컬럼의 첫 번째 정상 범위의 최대값 : {max}')\n",
        "\n",
        "print('-'*80)\n",
        "\n",
        "# 비교 연산 + 논리 연산 적용 → 조건 설정\n",
        "condition = (df_weather.loc[:,'hum'] < min ) | (df_weather.loc[:,'hum'] > max)\n",
        "print(f'습도 컬럼의 첫 번째 이상치에 대한 블리언 배열 : \\n{condition}')\n",
        "\n",
        "print('-'*80)\n",
        "\n",
        "# 논리 연산의 결과 → 블리언 인덱싱 → 이상치 데이터 index 추출\n",
        "outlier_index = df_weather.loc[condition,'hum'].index\n",
        "print(f'습도 컬럼의 첫 번째 이상치 데이터의 인덱스 : \\n{outlier_index}')\n",
        "\n",
        "print('-'*80)\n",
        "\n",
        "# 습도 컬럼에 대한 첫 번째 이상치 제거\n",
        "if len(outlier_index) > 0 :\n",
        "    cleaned_hum1 = df_weather.loc[:,'hum'].drop(index=outlier_index)\n",
        "    print(f'습도 컬럼에 대한 첫 번째 이상치 제거의 결과 : \\n{cleaned_hum1}')"
      ],
      "metadata": {
        "colab": {
          "base_uri": "https://localhost:8080/"
        },
        "id": "9w382FYecOYU",
        "outputId": "4c8d936e-3031-4acf-815a-44180741733d"
      },
      "execution_count": null,
      "outputs": [
        {
          "output_type": "stream",
          "name": "stdout",
          "text": [
            "습도 컬럼의 첫 번째 q1 : 66.0\n",
            "--------------------------------------------------------------------------------\n",
            "습도 컬럼의 첫 번째 q3 : 93.0\n",
            "--------------------------------------------------------------------------------\n",
            "습도 컬럼의 첫 번째 iqr = 27.0\n",
            "--------------------------------------------------------------------------------\n",
            "습도 컬럼의 첫 번째 정상 범위의 최소값 : 25.5\n",
            "--------------------------------------------------------------------------------\n",
            "습도 컬럼의 첫 번째 정상 범위의 최대값 : 133.5\n",
            "--------------------------------------------------------------------------------\n",
            "습도 컬럼의 첫 번째 이상치에 대한 블리언 배열 : \n",
            "0        False\n",
            "1        False\n",
            "2        False\n",
            "3        False\n",
            "4        False\n",
            "         ...  \n",
            "99995    False\n",
            "99996    False\n",
            "99997    False\n",
            "99998    False\n",
            "99999    False\n",
            "Name: hum, Length: 100000, dtype: bool\n",
            "--------------------------------------------------------------------------------\n",
            "습도 컬럼의 첫 번째 이상치 데이터의 인덱스 : \n",
            "Index([ 899,  900,  901,  902,  903,  904,  905,  906,  907,  908,\n",
            "       ...\n",
            "       4464, 4465, 4466, 4467, 4468, 4469, 4470, 4471, 4472, 4473],\n",
            "      dtype='int64', length=3575)\n",
            "--------------------------------------------------------------------------------\n",
            "습도 컬럼에 대한 첫 번째 이상치 제거의 결과 : \n",
            "0        34\n",
            "1        34\n",
            "2        34\n",
            "3        34\n",
            "4        34\n",
            "         ..\n",
            "99995    71\n",
            "99996    71\n",
            "99997    71\n",
            "99998    71\n",
            "99999    71\n",
            "Name: hum, Length: 96425, dtype: int64\n"
          ]
        }
      ]
    },
    {
      "cell_type": "code",
      "source": [
        "### 습도 컬럼의 두 번째 이상치 추출\n",
        "q1 = cleaned_hum1.quantile(q=0.25)\n",
        "q3 = cleaned_hum1.quantile(q=0.75)\n",
        "print(f'습도 컬럼의 두 번째 q1 : {q1}')\n",
        "print('-'*80)\n",
        "print(f'습도 컬럼의 두 번째 q3 : {q3}')\n",
        "\n",
        "print('-'*80)\n",
        "\n",
        "# 두 번째 iqr 측정\n",
        "iqr = q3 - q1\n",
        "print(f'습도 컬럼의 두 번째 iqr = {iqr}')\n",
        "\n",
        "print('-'*80)\n",
        "\n",
        "# 정상 범위의 두 번째 최소 / 최대 값 측정\n",
        "min = q1 - (iqr*1.5)\n",
        "max = q3 + (iqr*1.5)\n",
        "print(f'습도 컬럼의 두 번째 정상 범위의 최소값 : {min}')\n",
        "print('-'*80)\n",
        "print(f'습도 컬럼의 두 번째 정상 범위의 최대값 : {max}')\n",
        "\n",
        "print('-'*80)\n",
        "\n",
        "# 비교 연산 + 논리 연산 적용 → 조건 설정\n",
        "condition = (cleaned_hum1 < min ) | (cleaned_hum1 > max)\n",
        "print(f'습도 컬럼의 두 번째 이상치에 대한 블리언 배열 : \\n{condition}')\n",
        "\n",
        "print('-'*80)\n",
        "\n",
        "# 논리 연산의 결과 → 블리언 인덱싱 → 이상치 데이터 index 추출\n",
        "outlier_index = cleaned_hum1.loc[condition].index\n",
        "print(f'습도 컬럼의 두 번째 이상치 데이터의 인덱스 : \\n{outlier_index}')\n",
        "\n",
        "print('-'*80)\n",
        "\n",
        "# 습도 컬럼에 대한 두 번째 이상치 제거\n",
        "if len(outlier_index) > 0 :\n",
        "    cleaned_hum2 = cleaned_hum1.drop(index=outlier_index)\n",
        "    print(f'습도 컬럼에 대한 두 번째 이상치 제거의 결과 : \\n{cleaned_hum2}')"
      ],
      "metadata": {
        "colab": {
          "base_uri": "https://localhost:8080/"
        },
        "id": "YTguBnogddR8",
        "outputId": "0255f7e0-5c9b-4bb4-f6f8-87eaa546ec5b"
      },
      "execution_count": null,
      "outputs": [
        {
          "output_type": "stream",
          "name": "stdout",
          "text": [
            "습도 컬럼의 두 번째 q1 : 69.0\n",
            "--------------------------------------------------------------------------------\n",
            "습도 컬럼의 두 번째 q3 : 93.0\n",
            "--------------------------------------------------------------------------------\n",
            "습도 컬럼의 두 번째 iqr = 24.0\n",
            "--------------------------------------------------------------------------------\n",
            "습도 컬럼의 두 번째 정상 범위의 최소값 : 33.0\n",
            "--------------------------------------------------------------------------------\n",
            "습도 컬럼의 두 번째 정상 범위의 최대값 : 129.0\n",
            "--------------------------------------------------------------------------------\n",
            "습도 컬럼의 두 번째 이상치에 대한 블리언 배열 : \n",
            "0        False\n",
            "1        False\n",
            "2        False\n",
            "3        False\n",
            "4        False\n",
            "         ...  \n",
            "99995    False\n",
            "99996    False\n",
            "99997    False\n",
            "99998    False\n",
            "99999    False\n",
            "Name: hum, Length: 96425, dtype: bool\n",
            "--------------------------------------------------------------------------------\n",
            "습도 컬럼의 두 번째 이상치 데이터의 인덱스 : \n",
            "Index([ 180,  181,  182,  183,  184,  185,  186,  187,  188,  189,\n",
            "       ...\n",
            "       5904, 5905, 5906, 5907, 5908, 5909, 5910, 5911, 5912, 5913],\n",
            "      dtype='int64', length=2159)\n",
            "--------------------------------------------------------------------------------\n",
            "습도 컬럼에 대한 두 번째 이상치 제거의 결과 : \n",
            "0        34\n",
            "1        34\n",
            "2        34\n",
            "3        34\n",
            "4        34\n",
            "         ..\n",
            "99995    71\n",
            "99996    71\n",
            "99997    71\n",
            "99998    71\n",
            "99999    71\n",
            "Name: hum, Length: 94266, dtype: int64\n"
          ]
        }
      ]
    },
    {
      "cell_type": "markdown",
      "source": [
        "## 기압 컬럼의 이상치 제거"
      ],
      "metadata": {
        "id": "LuFI0C5megyL"
      }
    },
    {
      "cell_type": "code",
      "source": [
        "### 기압 컬럼의 첫 번째 이상치 추출\n",
        "q1 = df_weather.loc[:,'atm'].quantile(q=0.25)\n",
        "q3 = df_weather.loc[:,'atm'].quantile(q=0.75)\n",
        "print(f'기압 컬럼의 첫 번째 q1 : {q1}')\n",
        "print('-'*80)\n",
        "print(f'기압 컬럼의 첫 번째 q3 : {q3}')\n",
        "\n",
        "print('-'*80)\n",
        "\n",
        "# 첫 번째 iqr 측정\n",
        "iqr = q3 - q1\n",
        "print(f'기압 컬럼의 첫 번째 iqr = {iqr}')\n",
        "\n",
        "print('-'*80)\n",
        "\n",
        "# 정상 범위의 첫 번째 최소 / 최대 값 측정\n",
        "min = q1 - (iqr*1.5)\n",
        "max = q3 + (iqr*1.5)\n",
        "print(f'기압 컬럼의 첫 번째 정상 범위의 최소값 : {min}')\n",
        "print('-'*80)\n",
        "print(f'기압 컬럼의 첫 번째 정상 범위의 최대값 : {max}')\n",
        "\n",
        "print('-'*80)\n",
        "\n",
        "# 비교 연산 + 논리 연산 적용 → 조건 설정\n",
        "condition = (df_weather.loc[:,'atm'] < min ) | (df_weather.loc[:,'atm'] > max)\n",
        "print(f'기압 컬럼의 첫 번째 이상치에 대한 블리언 배열 : \\n{condition}')\n",
        "\n",
        "print('-'*80)\n",
        "\n",
        "# 논리 연산의 결과 → 블리언 인덱싱 → 이상치 데이터 index 추출\n",
        "outlier_index = df_weather.loc[condition,'atm'].index\n",
        "print(f'기압 컬럼의 첫 번째 이상치 데이터의 인덱스 : \\n{outlier_index}')\n",
        "\n",
        "print('-'*80)\n",
        "\n",
        "# 기압 컬럼에 대한 첫 번째 이상치 제거\n",
        "if len(outlier_index) > 0 :\n",
        "    cleaned_atm1 = df_weather.loc[:,'atm'].drop(index=outlier_index)\n",
        "    print(f'기압 컬럼에 대한 첫 번째 이상치 제거의 결과 : \\n{cleaned_atm1}')"
      ],
      "metadata": {
        "colab": {
          "base_uri": "https://localhost:8080/"
        },
        "id": "P25shYoUejB7",
        "outputId": "6d001c1c-9b34-449e-8a1f-a0347719aaae"
      },
      "execution_count": null,
      "outputs": [
        {
          "output_type": "stream",
          "name": "stdout",
          "text": [
            "기압 컬럼의 첫 번째 q1 : 1002.0\n",
            "--------------------------------------------------------------------------------\n",
            "기압 컬럼의 첫 번째 q3 : 1007.0\n",
            "--------------------------------------------------------------------------------\n",
            "기압 컬럼의 첫 번째 iqr = 5.0\n",
            "--------------------------------------------------------------------------------\n",
            "기압 컬럼의 첫 번째 정상 범위의 최소값 : 994.5\n",
            "--------------------------------------------------------------------------------\n",
            "기압 컬럼의 첫 번째 정상 범위의 최대값 : 1014.5\n",
            "--------------------------------------------------------------------------------\n",
            "기압 컬럼의 첫 번째 이상치에 대한 블리언 배열 : \n",
            "0         True\n",
            "1         True\n",
            "2         True\n",
            "3         True\n",
            "4         True\n",
            "         ...  \n",
            "99995    False\n",
            "99996    False\n",
            "99997    False\n",
            "99998    False\n",
            "99999    False\n",
            "Name: atm, Length: 100000, dtype: bool\n",
            "--------------------------------------------------------------------------------\n",
            "기압 컬럼의 첫 번째 이상치 데이터의 인덱스 : \n",
            "Index([    0,     1,     2,     3,     4,     5,     6,     7,     8,     9,\n",
            "       ...\n",
            "       73730, 73731, 73732, 73733, 73734, 73735, 73736, 73737, 73738, 73739],\n",
            "      dtype='int64', length=6811)\n",
            "--------------------------------------------------------------------------------\n",
            "기압 컬럼에 대한 첫 번째 이상치 제거의 결과 : \n",
            "5193     1014\n",
            "5194     1014\n",
            "5195     1014\n",
            "5196     1014\n",
            "5197     1014\n",
            "         ... \n",
            "99995    1009\n",
            "99996    1009\n",
            "99997    1009\n",
            "99998    1009\n",
            "99999    1009\n",
            "Name: atm, Length: 93189, dtype: int64\n"
          ]
        }
      ]
    },
    {
      "cell_type": "code",
      "source": [
        "### 기압 컬럼의 두 번째 이상치 추출\n",
        "q1 = cleaned_atm1.quantile(q=0.25)\n",
        "q3 = cleaned_atm1.quantile(q=0.75)\n",
        "print(f'기압 컬럼의 두 번째 q1 : {q1}')\n",
        "print('-'*80)\n",
        "print(f'기압 컬럼의 두 번째 q3 : {q3}')\n",
        "\n",
        "print('-'*80)\n",
        "\n",
        "# 두 번째 iqr 측정\n",
        "iqr = q3 - q1\n",
        "print(f'기압 컬럼의 두 번째 iqr = {iqr}')\n",
        "\n",
        "print('-'*80)\n",
        "\n",
        "# 정상 범위의 두 번째 최소 / 최대 값 측정\n",
        "min = q1 - (iqr*1.5)\n",
        "max = q3 + (iqr*1.5)\n",
        "print(f'기압 컬럼의 두 번째 정상 범위의 최소값 : {min}')\n",
        "print('-'*80)\n",
        "print(f'기압 컬럼의 두 번째 정상 범위의 최대값 : {max}')\n",
        "\n",
        "print('-'*80)\n",
        "\n",
        "# 비교 연산 + 논리 연산 적용 → 조건 설정\n",
        "condition = (cleaned_atm1 < min ) | (cleaned_atm1 > max)\n",
        "print(f'기압 컬럼의 두 번째 이상치에 대한 블리언 배열 : \\n{condition}')\n",
        "\n",
        "print('-'*80)\n",
        "\n",
        "# 논리 연산의 결과 → 블리언 인덱싱 → 이상치 데이터 index 추출\n",
        "outlier_index = cleaned_atm1.loc[condition].index\n",
        "print(f'기압 컬럼의 두 번째 이상치 데이터의 인덱스 : \\n{outlier_index}')\n",
        "\n",
        "print('-'*80)\n",
        "\n",
        "# 습도 컬럼에 대한 두 번째 이상치 제거\n",
        "if len(outlier_index) > 0 :\n",
        "    cleaned_atm2 = cleaned_atm1.drop(index=outlier_index)\n",
        "    print(f'기압 컬럼에 대한 두 번째 이상치 제거의 결과 : \\n{cleaned_atm2}')"
      ],
      "metadata": {
        "colab": {
          "base_uri": "https://localhost:8080/"
        },
        "id": "hYO6mrbRfT08",
        "outputId": "2593fff7-faf8-4c33-a37b-6ea0b3c4645b"
      },
      "execution_count": null,
      "outputs": [
        {
          "output_type": "stream",
          "name": "stdout",
          "text": [
            "기압 컬럼의 두 번째 q1 : 1002.0\n",
            "--------------------------------------------------------------------------------\n",
            "기압 컬럼의 두 번째 q3 : 1007.0\n",
            "--------------------------------------------------------------------------------\n",
            "기압 컬럼의 두 번째 iqr = 5.0\n",
            "--------------------------------------------------------------------------------\n",
            "기압 컬럼의 두 번째 정상 범위의 최소값 : 994.5\n",
            "--------------------------------------------------------------------------------\n",
            "기압 컬럼의 두 번째 정상 범위의 최대값 : 1014.5\n",
            "--------------------------------------------------------------------------------\n",
            "기압 컬럼의 두 번째 이상치에 대한 블리언 배열 : \n",
            "5193     False\n",
            "5194     False\n",
            "5195     False\n",
            "5196     False\n",
            "5197     False\n",
            "         ...  \n",
            "99995    False\n",
            "99996    False\n",
            "99997    False\n",
            "99998    False\n",
            "99999    False\n",
            "Name: atm, Length: 93189, dtype: bool\n",
            "--------------------------------------------------------------------------------\n",
            "기압 컬럼의 두 번째 이상치 데이터의 인덱스 : \n",
            "Index([], dtype='int64')\n",
            "--------------------------------------------------------------------------------\n"
          ]
        }
      ]
    },
    {
      "cell_type": "markdown",
      "source": [
        "## 풍속 컬럼의 이상치 제거"
      ],
      "metadata": {
        "id": "Dtl_nFpfg2M7"
      }
    },
    {
      "cell_type": "code",
      "source": [
        "### 풍속 컬럼의 첫 번째 이상치 추출\n",
        "q1 = df_weather.loc[:,'speed'].quantile(q=0.25)\n",
        "q3 = df_weather.loc[:,'speed'].quantile(q=0.75)\n",
        "print(f'풍속 컬럼의 첫 번째 q1 : {q1}')\n",
        "print('-'*80)\n",
        "print(f'풍속 컬럼의 첫 번째 q3 : {q3}')\n",
        "\n",
        "print('-'*80)\n",
        "\n",
        "# 첫 번째 iqr 측정\n",
        "iqr = q3 - q1\n",
        "print(f'풍속 컬럼의 첫 번째 iqr = {iqr}')\n",
        "\n",
        "print('-'*80)\n",
        "\n",
        "# 정상 범위의 첫 번째 최소 / 최대 값 측정\n",
        "min = q1 - (iqr*1.5)\n",
        "max = q3 + (iqr*1.5)\n",
        "print(f'풍속 컬럼의 첫 번째 정상 범위의 최소값 : {min}')\n",
        "print('-'*80)\n",
        "print(f'풍속 컬럼의 첫 번째 정상 범위의 최대값 : {max}')\n",
        "\n",
        "print('-'*80)\n",
        "\n",
        "# 비교 연산 + 논리 연산 적용 → 조건 설정\n",
        "condition = (df_weather.loc[:,'speed'] < min ) | (df_weather.loc[:,'speed'] > max)\n",
        "print(f'풍속 컬럼의 첫 번째 이상치에 대한 블리언 배열 : \\n{condition}')\n",
        "\n",
        "print('-'*80)\n",
        "\n",
        "# 논리 연산의 결과 → 블리언 인덱싱 → 이상치 데이터 index 추출\n",
        "outlier_index = df_weather.loc[condition,'speed'].index\n",
        "print(f'풍속 컬럼의 첫 번째 이상치 데이터의 인덱스 : \\n{outlier_index}')\n",
        "\n",
        "print('-'*80)\n",
        "\n",
        "# 풍속 컬럼에 대한 첫 번째 이상치 제거\n",
        "if len(outlier_index) > 0 :\n",
        "    cleaned_speed1 = df_weather.loc[:,'speed'].drop(index=outlier_index)\n",
        "    print(f'풍속 컬럼에 대한 첫 번째 이상치 제거의 결과 : \\n{cleaned_speed1}')"
      ],
      "metadata": {
        "colab": {
          "base_uri": "https://localhost:8080/"
        },
        "id": "lE1SRWWPg4YL",
        "outputId": "3b834e7d-ee2c-47b3-9440-c5e428c94971"
      },
      "execution_count": null,
      "outputs": [
        {
          "output_type": "stream",
          "name": "stdout",
          "text": [
            "풍속 컬럼의 첫 번째 q1 : 1.5\n",
            "--------------------------------------------------------------------------------\n",
            "풍속 컬럼의 첫 번째 q3 : 4.6\n",
            "--------------------------------------------------------------------------------\n",
            "풍속 컬럼의 첫 번째 iqr = 3.0999999999999996\n",
            "--------------------------------------------------------------------------------\n",
            "풍속 컬럼의 첫 번째 정상 범위의 최소값 : -3.1499999999999995\n",
            "--------------------------------------------------------------------------------\n",
            "풍속 컬럼의 첫 번째 정상 범위의 최대값 : 9.25\n",
            "--------------------------------------------------------------------------------\n",
            "풍속 컬럼의 첫 번째 이상치에 대한 블리언 배열 : \n",
            "0        False\n",
            "1        False\n",
            "2        False\n",
            "3        False\n",
            "4        False\n",
            "         ...  \n",
            "99995    False\n",
            "99996    False\n",
            "99997    False\n",
            "99998    False\n",
            "99999    False\n",
            "Name: speed, Length: 100000, dtype: bool\n",
            "--------------------------------------------------------------------------------\n",
            "풍속 컬럼의 첫 번째 이상치 데이터의 인덱스 : \n",
            "Index([71403, 71404, 71405, 71406, 71407, 71408, 71409, 71410, 71411, 71412,\n",
            "       ...\n",
            "       90267, 90268, 90269, 90270, 90271, 90272, 90273, 90274, 90275, 90276],\n",
            "      dtype='int64', length=2157)\n",
            "--------------------------------------------------------------------------------\n",
            "풍속 컬럼에 대한 첫 번째 이상치 제거의 결과 : \n",
            "0        3.1\n",
            "1        3.1\n",
            "2        3.1\n",
            "3        3.1\n",
            "4        3.1\n",
            "        ... \n",
            "99995    2.6\n",
            "99996    2.6\n",
            "99997    2.6\n",
            "99998    2.6\n",
            "99999    2.6\n",
            "Name: speed, Length: 97843, dtype: float64\n"
          ]
        }
      ]
    },
    {
      "cell_type": "markdown",
      "source": [
        "## Series 병합해서 DataFrame 생성"
      ],
      "metadata": {
        "id": "kLvSup4BiBmB"
      }
    },
    {
      "cell_type": "code",
      "source": [
        "### 이상치 제거 후 남아 있는 데이터 확인\n",
        "\n",
        "# 온도 컬럼\n",
        "print(cleaned_temp1)\n",
        "\n",
        "print('-'*80)\n",
        "\n",
        "# 습도 컬럼\n",
        "print(cleaned_hum1)\n",
        "\n",
        "print('-'*80)\n",
        "\n",
        "# 기압 컬럼\n",
        "print(cleaned_atm1)\n",
        "\n",
        "print('-'*80)\n",
        "\n",
        "# 풍속 컬럼\n",
        "print(cleaned_speed1)"
      ],
      "metadata": {
        "colab": {
          "base_uri": "https://localhost:8080/"
        },
        "id": "YRNIpA7-iK0s",
        "outputId": "f32dc6ea-bc20-4b45-a892-449d5ef2583b"
      },
      "execution_count": null,
      "outputs": [
        {
          "output_type": "stream",
          "name": "stdout",
          "text": [
            "0        17\n",
            "1        17\n",
            "2        17\n",
            "3        17\n",
            "4        17\n",
            "         ..\n",
            "99995     9\n",
            "99996     9\n",
            "99997     9\n",
            "99998     9\n",
            "99999     9\n",
            "Name: temp, Length: 97484, dtype: int64\n",
            "--------------------------------------------------------------------------------\n",
            "0        34\n",
            "1        34\n",
            "2        34\n",
            "3        34\n",
            "4        34\n",
            "         ..\n",
            "99995    71\n",
            "99996    71\n",
            "99997    71\n",
            "99998    71\n",
            "99999    71\n",
            "Name: hum, Length: 96425, dtype: int64\n",
            "--------------------------------------------------------------------------------\n",
            "5193     1014\n",
            "5194     1014\n",
            "5195     1014\n",
            "5196     1014\n",
            "5197     1014\n",
            "         ... \n",
            "99995    1009\n",
            "99996    1009\n",
            "99997    1009\n",
            "99998    1009\n",
            "99999    1009\n",
            "Name: atm, Length: 93189, dtype: int64\n",
            "--------------------------------------------------------------------------------\n",
            "0        3.1\n",
            "1        3.1\n",
            "2        3.1\n",
            "3        3.1\n",
            "4        3.1\n",
            "        ... \n",
            "99995    2.6\n",
            "99996    2.6\n",
            "99997    2.6\n",
            "99998    2.6\n",
            "99999    2.6\n",
            "Name: speed, Length: 97843, dtype: float64\n",
            "--------------------------------------------------------------------------------\n"
          ]
        }
      ]
    },
    {
      "cell_type": "code",
      "source": [
        "### 각 컬럼 병합 → DataFrame 생성\n",
        "df_concat = pd.concat([cleaned_temp1,cleaned_hum1,cleaned_atm1,cleaned_speed1],\n",
        "                      axis=1, join='inner')\n",
        "\n",
        "# 결과 확인하기\n",
        "print(df_concat)"
      ],
      "metadata": {
        "colab": {
          "base_uri": "https://localhost:8080/"
        },
        "id": "tS1EXeDIjKOd",
        "outputId": "7a4de35e-9691-4f81-a79a-005287a77db9"
      },
      "execution_count": null,
      "outputs": [
        {
          "output_type": "stream",
          "name": "stdout",
          "text": [
            "       temp  hum   atm  speed\n",
            "5193     23   30  1014    1.5\n",
            "5194     23   30  1014    1.5\n",
            "5195     23   30  1014    1.5\n",
            "5196     23   30  1014    1.5\n",
            "5197     23   30  1014    1.5\n",
            "...     ...  ...   ...    ...\n",
            "99995     9   71  1009    2.6\n",
            "99996     9   71  1009    2.6\n",
            "99997     9   71  1009    2.6\n",
            "99998     9   71  1009    2.6\n",
            "99999     9   71  1009    2.6\n",
            "\n",
            "[91751 rows x 4 columns]\n"
          ]
        }
      ]
    },
    {
      "cell_type": "code",
      "source": [
        "### 인덱스 재설정\n",
        "# print(df_concat.reset_index()) # index 컬럼이 생성됨 (원치 않아서 재설정 하려고 하는 인덱스)\n",
        "df_concat = df_concat.reset_index(drop=True)\n",
        "\n",
        "print(df_concat)"
      ],
      "metadata": {
        "colab": {
          "base_uri": "https://localhost:8080/"
        },
        "id": "sTSnthmanZse",
        "outputId": "142cdc7b-3341-4545-fa41-a50e3a29b9a3"
      },
      "execution_count": null,
      "outputs": [
        {
          "output_type": "stream",
          "name": "stdout",
          "text": [
            "       temp  hum   atm  speed\n",
            "0        23   30  1014    1.5\n",
            "1        23   30  1014    1.5\n",
            "2        23   30  1014    1.5\n",
            "3        23   30  1014    1.5\n",
            "4        23   30  1014    1.5\n",
            "...     ...  ...   ...    ...\n",
            "91746     9   71  1009    2.6\n",
            "91747     9   71  1009    2.6\n",
            "91748     9   71  1009    2.6\n",
            "91749     9   71  1009    2.6\n",
            "91750     9   71  1009    2.6\n",
            "\n",
            "[91751 rows x 4 columns]\n"
          ]
        }
      ]
    },
    {
      "cell_type": "markdown",
      "source": [
        "# Feature Engineering"
      ],
      "metadata": {
        "id": "xdnIjqo9vrbL"
      }
    },
    {
      "cell_type": "markdown",
      "source": [
        "## label encoding"
      ],
      "metadata": {
        "id": "5cN17lFovvpK"
      }
    },
    {
      "cell_type": "code",
      "source": [
        "### 데이터 불러오기\n",
        "\n",
        "# 필요한 라이브러리 임폴트\n",
        "import pandas as pd\n",
        "\n",
        "# 파일 경로 설정하기\n",
        "file_path = '/content/drive/MyDrive/데이터 분석/데이터/iris_dataset.csv'\n",
        "\n",
        "# pd.read_csv() → DataFrame\n",
        "df = pd.read_csv(file_path)\n",
        "\n",
        "# 결과 확인하기\n",
        "print(df)"
      ],
      "metadata": {
        "colab": {
          "base_uri": "https://localhost:8080/"
        },
        "id": "izPrZtLlv1N6",
        "outputId": "eceab7e2-f9e2-4d9d-c215-5741bfc376c3"
      },
      "execution_count": null,
      "outputs": [
        {
          "output_type": "stream",
          "name": "stdout",
          "text": [
            "     sepal length (cm)  sepal width (cm)  petal length (cm)  petal width (cm)  \\\n",
            "0                  5.1               3.5                1.4               0.2   \n",
            "1                  4.9               3.0                1.4               0.2   \n",
            "2                  4.7               3.2                1.3               0.2   \n",
            "3                  4.6               3.1                1.5               0.2   \n",
            "4                  5.0               3.6                1.4               0.2   \n",
            "..                 ...               ...                ...               ...   \n",
            "145                6.7               3.0                5.2               2.3   \n",
            "146                6.3               2.5                5.0               1.9   \n",
            "147                6.5               3.0                5.2               2.0   \n",
            "148                6.2               3.4                5.4               2.3   \n",
            "149                5.9               3.0                5.1               1.8   \n",
            "\n",
            "         label  \n",
            "0       setosa  \n",
            "1       setosa  \n",
            "2       setosa  \n",
            "3       setosa  \n",
            "4       setosa  \n",
            "..         ...  \n",
            "145  virginica  \n",
            "146  virginica  \n",
            "147  virginica  \n",
            "148  virginica  \n",
            "149  virginica  \n",
            "\n",
            "[150 rows x 5 columns]\n"
          ]
        }
      ]
    },
    {
      "cell_type": "code",
      "source": [
        "### 붓꽃의 품종 → 품종 종류를 알파벳 순서대로 추출\n",
        "\n",
        "# 필요한 라이버르리 임폴트\n",
        "import numpy as np\n",
        "\n",
        "\"\"\"\n",
        "numpy.unique()\n",
        "\"\"\"\n",
        "\n",
        "# label 컬럼 → '값' 추출\n",
        "arr = df.loc[:,'label'].values\n",
        "\n",
        "# np.unique(ar) 함수 사용 → 항목을 알파벳 순서대로 추출\n",
        "result = np.unique(arr)\n",
        "\n",
        "# 결과 확인하기\n",
        "print(result)"
      ],
      "metadata": {
        "colab": {
          "base_uri": "https://localhost:8080/"
        },
        "id": "m_Q1-EfOyPSg",
        "outputId": "d16ce32a-1e10-4509-8010-aed53fd597b9"
      },
      "execution_count": null,
      "outputs": [
        {
          "output_type": "stream",
          "name": "stdout",
          "text": [
            "['setosa' 'versicolor' 'virginica']\n"
          ]
        }
      ]
    },
    {
      "cell_type": "code",
      "source": [
        "### 붓꽃의 품종 → 품종 별 빈도수 추출\n",
        "\n",
        "# df.loc.value_counts()\n",
        "counts = df.loc[:, 'label'].value_counts()\n",
        "\n",
        "# 결과 확인하기\n",
        "print(counts) # 항목의 나열이 알파벳 순이 아니라 빈도수의 크기 순임"
      ],
      "metadata": {
        "colab": {
          "base_uri": "https://localhost:8080/"
        },
        "id": "QJs-v9hZLg_Q",
        "outputId": "f0f67b36-fe35-48a2-a1da-6be13d2c6c08"
      },
      "execution_count": null,
      "outputs": [
        {
          "output_type": "stream",
          "name": "stdout",
          "text": [
            "label\n",
            "setosa        50\n",
            "versicolor    50\n",
            "virginica     50\n",
            "Name: count, dtype: int64\n"
          ]
        }
      ]
    },
    {
      "cell_type": "code",
      "source": [
        "### label encording 실행\n",
        "df_label = df.replace({'setosa':0,'versicolor':1,'virginica':2})\n",
        "\n",
        "# 결과 확인하기\n",
        "print(df_label)"
      ],
      "metadata": {
        "colab": {
          "base_uri": "https://localhost:8080/"
        },
        "id": "BYd4Uc-xMtjK",
        "outputId": "9da69fe3-4007-4c1a-b3e7-63199675bcef"
      },
      "execution_count": null,
      "outputs": [
        {
          "output_type": "stream",
          "name": "stdout",
          "text": [
            "     sepal length (cm)  sepal width (cm)  petal length (cm)  petal width (cm)  \\\n",
            "0                  5.1               3.5                1.4               0.2   \n",
            "1                  4.9               3.0                1.4               0.2   \n",
            "2                  4.7               3.2                1.3               0.2   \n",
            "3                  4.6               3.1                1.5               0.2   \n",
            "4                  5.0               3.6                1.4               0.2   \n",
            "..                 ...               ...                ...               ...   \n",
            "145                6.7               3.0                5.2               2.3   \n",
            "146                6.3               2.5                5.0               1.9   \n",
            "147                6.5               3.0                5.2               2.0   \n",
            "148                6.2               3.4                5.4               2.3   \n",
            "149                5.9               3.0                5.1               1.8   \n",
            "\n",
            "     label  \n",
            "0        0  \n",
            "1        0  \n",
            "2        0  \n",
            "3        0  \n",
            "4        0  \n",
            "..     ...  \n",
            "145      2  \n",
            "146      2  \n",
            "147      2  \n",
            "148      2  \n",
            "149      2  \n",
            "\n",
            "[150 rows x 5 columns]\n"
          ]
        }
      ]
    },
    {
      "cell_type": "markdown",
      "source": [
        "## One-Hot encodiong"
      ],
      "metadata": {
        "id": "LrkYjacrTZ-2"
      }
    },
    {
      "cell_type": "code",
      "source": [
        "### pandas.get_dummies(data = df, columns = [col1, col2,...]) 함수 사용\n",
        "df_onehot = pd.get_dummies(data = df, columns = ['label'], dtype=int)\n",
        "print(df_onehot)"
      ],
      "metadata": {
        "colab": {
          "base_uri": "https://localhost:8080/"
        },
        "id": "XWXW9bHUTolP",
        "outputId": "e82dff89-a670-4d56-da1d-d8a7913bcd35"
      },
      "execution_count": null,
      "outputs": [
        {
          "output_type": "stream",
          "name": "stdout",
          "text": [
            "     sepal length (cm)  sepal width (cm)  petal length (cm)  petal width (cm)  \\\n",
            "0                  5.1               3.5                1.4               0.2   \n",
            "1                  4.9               3.0                1.4               0.2   \n",
            "2                  4.7               3.2                1.3               0.2   \n",
            "3                  4.6               3.1                1.5               0.2   \n",
            "4                  5.0               3.6                1.4               0.2   \n",
            "..                 ...               ...                ...               ...   \n",
            "145                6.7               3.0                5.2               2.3   \n",
            "146                6.3               2.5                5.0               1.9   \n",
            "147                6.5               3.0                5.2               2.0   \n",
            "148                6.2               3.4                5.4               2.3   \n",
            "149                5.9               3.0                5.1               1.8   \n",
            "\n",
            "     label_setosa  label_versicolor  label_virginica  \n",
            "0               1                 0                0  \n",
            "1               1                 0                0  \n",
            "2               1                 0                0  \n",
            "3               1                 0                0  \n",
            "4               1                 0                0  \n",
            "..            ...               ...              ...  \n",
            "145             0                 0                1  \n",
            "146             0                 0                1  \n",
            "147             0                 0                1  \n",
            "148             0                 0                1  \n",
            "149             0                 0                1  \n",
            "\n",
            "[150 rows x 7 columns]\n"
          ]
        }
      ]
    },
    {
      "cell_type": "markdown",
      "source": [
        "## 구간화(binning)"
      ],
      "metadata": {
        "id": "_R9Gl2qRdit-"
      }
    },
    {
      "cell_type": "code",
      "source": [
        "### pd.cut(x,bins,right,labels) 함수 사용\n",
        "\n",
        "# 데이터 생성\n",
        "ages = [1, 10, 15, 13, 21, 23, 37, 31, 43, 80, 61, 20, 41, 32, 100]\n",
        "age_bins = [0, 15, 25, 35, 60, 100]\n",
        "age_labels = ['어린이', '청년', '중년', '장년', '노년']\n",
        "\n",
        "# pd.cut() 함수 사용\n",
        "categorical_ages = pd.cut(x=ages, bins=age_bins, labels=age_labels)\n",
        "\n",
        "# 결과 확인하기\n",
        "print(f'구간화의 결과 : \\n{categorical_ages}') # 구간화의 결과 숫자가 범주형(문자열)로 변환됨"
      ],
      "metadata": {
        "colab": {
          "base_uri": "https://localhost:8080/"
        },
        "id": "-saW1TtIdm9L",
        "outputId": "8ebc7930-4c1c-4fe8-fd07-3442c5b69cb6"
      },
      "execution_count": null,
      "outputs": [
        {
          "output_type": "stream",
          "name": "stdout",
          "text": [
            "구간화의 결과 : \n",
            "['어린이', '어린이', '어린이', '어린이', '청년', ..., '노년', '청년', '장년', '중년', '노년']\n",
            "Length: 15\n",
            "Categories (5, object): ['어린이' < '청년' < '중년' < '장년' < '노년']\n"
          ]
        }
      ]
    }
  ]
}